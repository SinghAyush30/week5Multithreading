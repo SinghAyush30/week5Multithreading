{
 "cells": [
  {
   "cell_type": "markdown",
   "id": "6c60918c-1d67-49e5-9845-a858286da7be",
   "metadata": {},
   "source": [
    "Ans1) Multithreading in Python refers to the ability of a program to concurrently execute multiple threads within a single process. A thread is a separate flow of execution that can perform tasks independently.\n",
    "\n",
    "Multiple threads in a program are used to execute multiple tasks simultaneously, It also improves efficiency and responsiveness of program bu utilizing multiple cores of CPU.\n",
    "\n",
    "By using the threading module, we can create and manage threads easily in Python."
   ]
  },
  {
   "cell_type": "markdown",
   "id": "a86e8848-333a-45f5-8c75-54f4322cf7ce",
   "metadata": {},
   "source": [
    "Ans2) The threading module in Python is used to create and manage threads.Threads are useful for executing multiple tasks simultaneously and efficiently utilizing system resources. \n",
    "\n",
    "i)activecount(): This function is used to obtain the current number of Thread objects that are active and running in the program. It returns an integer representing the count of active threads.\n",
    "\n",
    "ii)currentthread(): This function returns the Thread object corresponding to the current executing thread. It is often used within a thread to obtain a reference to itself. \n",
    "\n",
    "iii)enumerate(): This function is useful for obtaining a snapshot of all active threads and can assist in managing or monitoring thread execution."
   ]
  },
  {
   "cell_type": "code",
   "execution_count": 1,
   "id": "aac51dc4-3a65-4180-903d-809e062fe5aa",
   "metadata": {},
   "outputs": [
    {
     "name": "stdout",
     "output_type": "stream",
     "text": [
      "Example for run\n"
     ]
    }
   ],
   "source": [
    "#Ans3) i)run(): The run() function is used to start the execution of a thread's activity.\n",
    "import threading\n",
    "\n",
    "class Thread1(threading.Thread):\n",
    "    def run(self):\n",
    "        print(\"Example for run\")\n",
    "my_thread1 = Thread1()\n",
    "my_thread1.run()"
   ]
  },
  {
   "cell_type": "code",
   "execution_count": 2,
   "id": "86d8f118-0593-44c2-8537-f03efc563ad4",
   "metadata": {},
   "outputs": [
    {
     "name": "stdout",
     "output_type": "stream",
     "text": [
      "example for start\n"
     ]
    }
   ],
   "source": [
    "#ii) start(): The start() function is used to start the execution of a thread by creating a new thread of execution. It will call the run() method internally and start the code execution in a separate thread.\n",
    "class Thread2(threading.Thread):\n",
    "    def run(self):\n",
    "        print(\"example for start\")\n",
    "my_thread2 = Thread2()\n",
    "my_thread2.start()"
   ]
  },
  {
   "cell_type": "code",
   "execution_count": 3,
   "id": "d8eb4582-7a96-4c6a-bd82-4b5c42546447",
   "metadata": {},
   "outputs": [
    {
     "name": "stdout",
     "output_type": "stream",
     "text": [
      "example for join\n",
      "this joins the thread\n",
      "All threads have completed\n"
     ]
    }
   ],
   "source": [
    "#iii) join(): The join() function is used to wait for a thread to complete its execution. When this method is called on a thread, the calling thread will wait until the specified thread finishes its execution or until a specified timeout period elapses.\n",
    "import time\n",
    "\n",
    "def my_function1():\n",
    "    print(\"example for join\")\n",
    "    time.sleep(2)\n",
    "    print(\"this joins the thread\")\n",
    "my_thread3 = threading.Thread(target=my_function1)\n",
    "\n",
    "my_thread3.start()\n",
    "\n",
    "my_thread3.join()\n",
    "\n",
    "print(\"All threads have completed\")"
   ]
  },
  {
   "cell_type": "code",
   "execution_count": 4,
   "id": "659d80b6-d517-4031-b049-56a3a49a263e",
   "metadata": {},
   "outputs": [
    {
     "name": "stdout",
     "output_type": "stream",
     "text": [
      "example for is_alive\n",
      "Thread is still running\n",
      "Thread is done\n"
     ]
    }
   ],
   "source": [
    "#iv)isAlive(): The isAlive() function is used to check whether a thread is currently executing or has finished its execution. It returns True if the thread is still alive and executing, and False otherwise.\n",
    "def my_function2():\n",
    "    print(\"example for is_alive\")\n",
    "    time.sleep(1)\n",
    "    print(\"Thread is done\")\n",
    "my_thread4 = threading.Thread(target=my_function2)\n",
    "\n",
    "my_thread4.start()\n",
    "\n",
    "if my_thread4.is_alive():\n",
    "    print(\"Thread is still running\")\n",
    "else:\n",
    "    print(\"Thread has finished its execution\")"
   ]
  },
  {
   "cell_type": "code",
   "execution_count": 6,
   "id": "cd3d367e-bb46-4e1a-a379-ffbac45080f9",
   "metadata": {},
   "outputs": [
    {
     "name": "stdout",
     "output_type": "stream",
     "text": [
      "List of Square\n",
      "[1, 4, 9, 16, 25]\n",
      "List of cubes\n",
      "[1, 8, 27, 64, 125]\n"
     ]
    }
   ],
   "source": [
    "#Ans4) \n",
    "import threading\n",
    "\n",
    "l = [1,2,3,4,5]\n",
    "def sqare_list():\n",
    "    print(\"List of Square\")\n",
    "    list_of_square=[i**2 for i in l ]\n",
    "    print(list_of_square)\n",
    "        \n",
    "def cube_list():\n",
    "    print(\"List of cubes\")\n",
    "    list_of_cubes=[i**3 for i in l ]\n",
    "    print(list_of_cubes)\n",
    "    \n",
    "m1 = threading.Thread(target=sqare_list)\n",
    "m2 = threading.Thread(target=cube_list)\n",
    "\n",
    "m1.start()\n",
    "m2.start()"
   ]
  },
  {
   "cell_type": "markdown",
   "id": "f0c5a0f5-b05a-4bfd-8104-83a0d902bbcc",
   "metadata": {},
   "source": [
    "Ans5)\n",
    "Advantages of Multithreading:\n",
    "\n",
    "i)Improved Performance by using multiple CPU cores thus reducing the overall execution time.\n",
    "\n",
    "ii)Multithreading can enhance the responsiveness of an application by keeping it interactive even when performing time-consuming tasks.\n",
    "\n",
    "iii)Multithreading allows multiple threads to share the same resources, such as memory, files, and network connections. This can result in more efficient resource utilization and reduced memory footprint compared to running multiple independent processes.\n",
    "\n",
    "Disadvantages of Multithreading:\n",
    "\n",
    "i)Multithreading introduces additional complexity to program design and implementation.\n",
    "\n",
    "ii)Multithreading requires additional system resources to manage and switch between threads. Each thread has its own stack, register set, and other associated data structures. If a program creates too many threads, it can lead to excessive resource consumption, including increased memory usage and scheduling overhead.\n",
    "\n",
    "iii)When multiple threads access shared data simultaneously, there is a risk of thread interference. "
   ]
  },
  {
   "cell_type": "markdown",
   "id": "eb4098d1-25ef-46fe-a44f-fb7459fedfb6",
   "metadata": {},
   "source": [
    "Ans6)Deadlock: A deadlock refers to a situation where two or more processes are unable to proceed because each is waiting for the other to release a resource. It occurs in multi-threaded or multi-process environments where concurrent programs use shared resources.\n",
    "\n",
    "Race Condition: A race condition occurs when the behavior of a program depends on the relative timing of events or the interleaving of multiple threads/processes. It arises when multiple concurrent operations access shared resources, and the final outcome of the program depends on the order of their execution."
   ]
  },
  {
   "cell_type": "code",
   "execution_count": null,
   "id": "1bbda0ae-794b-44be-a4d8-91f6a6fe6aa2",
   "metadata": {},
   "outputs": [],
   "source": []
  }
 ],
 "metadata": {
  "kernelspec": {
   "display_name": "Python 3 (ipykernel)",
   "language": "python",
   "name": "python3"
  },
  "language_info": {
   "codemirror_mode": {
    "name": "ipython",
    "version": 3
   },
   "file_extension": ".py",
   "mimetype": "text/x-python",
   "name": "python",
   "nbconvert_exporter": "python",
   "pygments_lexer": "ipython3",
   "version": "3.10.8"
  }
 },
 "nbformat": 4,
 "nbformat_minor": 5
}
